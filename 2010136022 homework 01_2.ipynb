{
 "cells": [
  {
   "cell_type": "code",
   "execution_count": 8,
   "metadata": {
    "collapsed": false
   },
   "outputs": [
    {
     "name": "stdout",
     "output_type": "stream",
     "text": [
      "정수를 입력하세요 : \n",
      "2546\n",
      "숫자 역순은 6452 입니다.\n"
     ]
    }
   ],
   "source": [
    "#7번문제\n",
    "print \"정수를 입력하세요 : \"\n",
    "num = raw_input(\"\") \n",
    "print \"숫자 역순은 \" + num[::-1] + \" 입니다.\""
   ]
  },
  {
   "cell_type": "markdown",
   "metadata": {},
   "source": [
    "<7번문제>\n",
    "raw_input으로 str형의 데이터를 입력받도록 한다.  \n",
    "문자형이므로 스텝의 값을 -1로 해주어 역순으로 출력하도록 한다.  \n",
    "유니코드 에러가 계속 발생해서 윗줄에 따로 문장을 출력했습니다.  "
   ]
  },
  {
   "cell_type": "code",
   "execution_count": 19,
   "metadata": {
    "collapsed": false
   },
   "outputs": [
    {
     "name": "stdout",
     "output_type": "stream",
     "text": [
      "정수를 입력하세요 : \n",
      "100\n",
      "2 3 5 7 11 13 17 19 23 29 31 37 41 43 47 53 59 61 67 71 73 79 83 89 97\n"
     ]
    }
   ],
   "source": [
    "#8번문제\n",
    "print \"정수를 입력하세요 : \"\n",
    "num2 = input(\"\")\n",
    "for i in range(1, num2+1):\n",
    "    if i==2:\n",
    "        print i,\n",
    "    else:\n",
    "            for j in range(2, i):\n",
    "                if (i%j == 0):\n",
    "                    break\n",
    "                if (j == i-1):\n",
    "                    print i,"
   ]
  },
  {
   "cell_type": "markdown",
   "metadata": {},
   "source": [
    "<8번문제>\n",
    "1부터 입력받는 정수까지의 소수를 출력한다. 2이면 바로 출력하고  \n",
    "i를 j로 나누어 떨어진다면 소수가 아니므로 루프를 빠져나오고  \n",
    "끝까지 나누어떨어지는 수가 없다면 소수이므로 출력한다."
   ]
  }
 ],
 "metadata": {
  "anaconda-cloud": {},
  "kernelspec": {
   "display_name": "Python [conda root]",
   "language": "python",
   "name": "conda-root-py"
  },
  "language_info": {
   "codemirror_mode": {
    "name": "ipython",
    "version": 2
   },
   "file_extension": ".py",
   "mimetype": "text/x-python",
   "name": "python",
   "nbconvert_exporter": "python",
   "pygments_lexer": "ipython2",
   "version": "2.7.12"
  }
 },
 "nbformat": 4,
 "nbformat_minor": 1
}
