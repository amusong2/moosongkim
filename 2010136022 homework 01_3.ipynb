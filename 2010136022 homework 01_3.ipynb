{
 "cells": [
  {
   "cell_type": "code",
   "execution_count": 20,
   "metadata": {
    "collapsed": false
   },
   "outputs": [
    {
     "name": "stdout",
     "output_type": "stream",
     "text": [
      "233168\n"
     ]
    }
   ],
   "source": [
    "#프로젝트 오일러 1번\n",
    "print(sum([i for i in range(1,1000) if i%3==0 or i%5==0]))"
   ]
  },
  {
   "cell_type": "markdown",
   "metadata": {},
   "source": [
    "1000보다 작은 자연수 중에서 3또는 5의 배수의 합을 구하는 문제입니다.  \n",
    "1000보다 작으므로 범위를 1부터 1000으로 해주고 if문을 사용하여 구했습니다.  "
   ]
  },
  {
   "cell_type": "code",
   "execution_count": 38,
   "metadata": {
    "collapsed": false
   },
   "outputs": [
    {
     "name": "stdout",
     "output_type": "stream",
     "text": [
      "4613732\n"
     ]
    }
   ],
   "source": [
    "#프로젝트 오일러 2번\n",
    "sum = 2\n",
    "n1 = 1\n",
    "n2 = 2\n",
    "n3 = 0\n",
    "\n",
    "while n3 <= 4000000:\n",
    "    n3 = n1 + n2\n",
    "    if n3 % 2 == 0:\n",
    "        sum = sum + n3\n",
    "    n1 = n2\n",
    "    n2 = n3\n",
    "print sum"
   ]
  },
  {
   "cell_type": "markdown",
   "metadata": {},
   "source": [
    "첫번째 항과 두번째 항, 두 항을 더하는 새 항을 만든후  \n",
    "새항 n3이 400만보다 작고 짝수이면 계속 더하게 합니다.  \n",
    "항의 값을 변경해줍니다."
   ]
  },
  {
   "cell_type": "code",
   "execution_count": 39,
   "metadata": {
    "collapsed": true
   },
   "outputs": [],
   "source": [
    "#프로젝트 오일러 3번"
   ]
  },
  {
   "cell_type": "markdown",
   "metadata": {},
   "source": [
    "시간 부족으로 해결하지 못했습니다."
   ]
  },
  {
   "cell_type": "code",
   "execution_count": null,
   "metadata": {
    "collapsed": true
   },
   "outputs": [],
   "source": []
  }
 ],
 "metadata": {
  "anaconda-cloud": {},
  "kernelspec": {
   "display_name": "Python [conda root]",
   "language": "python",
   "name": "conda-root-py"
  },
  "language_info": {
   "codemirror_mode": {
    "name": "ipython",
    "version": 2
   },
   "file_extension": ".py",
   "mimetype": "text/x-python",
   "name": "python",
   "nbconvert_exporter": "python",
   "pygments_lexer": "ipython2",
   "version": "2.7.12"
  }
 },
 "nbformat": 4,
 "nbformat_minor": 1
}
